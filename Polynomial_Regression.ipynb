{
  "nbformat": 4,
  "nbformat_minor": 0,
  "metadata": {
    "colab": {
      "provenance": [],
      "authorship_tag": "ABX9TyMhabuNqF3YrrPewUB9mZDN",
      "include_colab_link": true
    },
    "kernelspec": {
      "name": "python3",
      "display_name": "Python 3"
    },
    "language_info": {
      "name": "python"
    }
  },
  "cells": [
    {
      "cell_type": "markdown",
      "metadata": {
        "id": "view-in-github",
        "colab_type": "text"
      },
      "source": [
        "<a href=\"https://colab.research.google.com/github/hatim1801/Machine-Learning-Models/blob/main/Polynomial_Regression.ipynb\" target=\"_parent\"><img src=\"https://colab.research.google.com/assets/colab-badge.svg\" alt=\"Open In Colab\"/></a>"
      ]
    },
    {
      "cell_type": "code",
      "execution_count": 2,
      "metadata": {
        "id": "-u37DsKlFUeN"
      },
      "outputs": [],
      "source": [
        "import numpy as np\n",
        "import pandas as pd\n",
        "import matplotlib.pyplot as plt\n",
        "from sklearn.model_selection import train_test_split\n",
        "from sklearn.preprocessing import StandardScaler\n",
        "from sklearn.linear_model import LinearRegression\n",
        "from sklearn.metrics import mean_squared_error,r2_score"
      ]
    },
    {
      "cell_type": "code",
      "source": [
        "x = 6 * np.random.rand(100,1) - 3\n",
        "y = 0.5 * x**2 + x+2 + np.random.randn(100,1)"
      ],
      "metadata": {
        "id": "IQi_fk6oGFk3"
      },
      "execution_count": 3,
      "outputs": []
    },
    {
      "cell_type": "code",
      "source": [
        "x"
      ],
      "metadata": {
        "colab": {
          "base_uri": "https://localhost:8080/"
        },
        "id": "L8Zex-sWGp9d",
        "outputId": "0b29131a-3c68-444d-a07c-6459b3e4feb1"
      },
      "execution_count": 10,
      "outputs": [
        {
          "output_type": "execute_result",
          "data": {
            "text/plain": [
              "array([[ 1.59663245],\n",
              "       [-2.73010982],\n",
              "       [-1.09922066],\n",
              "       [ 0.25596509],\n",
              "       [ 2.59589175],\n",
              "       [-0.49575117],\n",
              "       [ 0.17951125],\n",
              "       [ 2.44838906],\n",
              "       [-1.26183632],\n",
              "       [-1.64321889],\n",
              "       [-1.6592692 ],\n",
              "       [ 1.26208077],\n",
              "       [-0.94160372],\n",
              "       [-0.66612961],\n",
              "       [-2.76618899],\n",
              "       [ 0.55289141],\n",
              "       [-1.58179888],\n",
              "       [-0.5769175 ],\n",
              "       [-1.32383894],\n",
              "       [-1.82505529],\n",
              "       [-1.59119676],\n",
              "       [ 0.13560671],\n",
              "       [ 2.10907615],\n",
              "       [-2.33307913],\n",
              "       [ 2.31676637],\n",
              "       [ 2.02050196],\n",
              "       [ 2.19690273],\n",
              "       [-2.49231503],\n",
              "       [-0.8785861 ],\n",
              "       [ 0.9346587 ],\n",
              "       [-2.70262306],\n",
              "       [-2.68136178],\n",
              "       [-0.6683663 ],\n",
              "       [-2.16720317],\n",
              "       [ 2.91629404],\n",
              "       [ 1.83361746],\n",
              "       [ 2.34019998],\n",
              "       [ 1.80953809],\n",
              "       [-1.84913029],\n",
              "       [ 2.7214383 ],\n",
              "       [-1.70705502],\n",
              "       [ 0.64579879],\n",
              "       [ 0.04388994],\n",
              "       [ 2.57798423],\n",
              "       [ 0.30825207],\n",
              "       [ 2.34713325],\n",
              "       [-1.80220752],\n",
              "       [-1.27626062],\n",
              "       [-1.81097475],\n",
              "       [-0.83323844],\n",
              "       [-2.92336695],\n",
              "       [-1.00285   ],\n",
              "       [-1.49594452],\n",
              "       [-1.14398144],\n",
              "       [-0.95842798],\n",
              "       [-0.93896475],\n",
              "       [-1.17563325],\n",
              "       [-1.56502122],\n",
              "       [ 2.36590616],\n",
              "       [-2.04250919],\n",
              "       [ 0.98487244],\n",
              "       [-2.33775074],\n",
              "       [-1.60107493],\n",
              "       [ 0.61896471],\n",
              "       [-0.88790108],\n",
              "       [-2.563071  ],\n",
              "       [ 2.44784158],\n",
              "       [-1.10921637],\n",
              "       [ 1.88530521],\n",
              "       [ 2.78627876],\n",
              "       [ 1.07913909],\n",
              "       [ 0.87357714],\n",
              "       [-1.0219199 ],\n",
              "       [ 2.81970203],\n",
              "       [ 2.45658704],\n",
              "       [ 0.87749358],\n",
              "       [-1.18574556],\n",
              "       [ 2.53968901],\n",
              "       [-0.61414111],\n",
              "       [-1.18718273],\n",
              "       [ 1.91362195],\n",
              "       [ 2.66905412],\n",
              "       [ 0.50192483],\n",
              "       [-1.16185052],\n",
              "       [-0.31342454],\n",
              "       [ 1.62259949],\n",
              "       [-1.3327928 ],\n",
              "       [ 2.09968878],\n",
              "       [-1.75137688],\n",
              "       [-2.89210437],\n",
              "       [-2.83909325],\n",
              "       [-2.67603828],\n",
              "       [-2.8360004 ],\n",
              "       [-0.32887711],\n",
              "       [ 2.82867412],\n",
              "       [ 0.15522828],\n",
              "       [ 1.76831255],\n",
              "       [ 1.87134899],\n",
              "       [ 1.24122759],\n",
              "       [ 0.40058404]])"
            ]
          },
          "metadata": {},
          "execution_count": 10
        }
      ]
    },
    {
      "cell_type": "code",
      "source": [
        "y"
      ],
      "metadata": {
        "colab": {
          "base_uri": "https://localhost:8080/"
        },
        "id": "f0XqkqHyGudW",
        "outputId": "60e156ba-a82a-446f-c54b-a1ebbc970878"
      },
      "execution_count": 5,
      "outputs": [
        {
          "output_type": "execute_result",
          "data": {
            "text/plain": [
              "array([[2.78123144e+00],\n",
              "       [1.80595443e+01],\n",
              "       [2.80950527e+00],\n",
              "       [3.16751120e+00],\n",
              "       [2.39237383e+02],\n",
              "       [1.81292276e+01],\n",
              "       [3.85638686e+00],\n",
              "       [1.65812041e+00],\n",
              "       [1.21961517e+02],\n",
              "       [3.14594826e+00],\n",
              "       [2.77218982e+00],\n",
              "       [5.15575523e+01],\n",
              "       [4.84608712e+01],\n",
              "       [2.66880887e+00],\n",
              "       [6.33064529e+00],\n",
              "       [3.02169017e+00],\n",
              "       [3.76061010e+00],\n",
              "       [1.22910234e+01],\n",
              "       [2.14402587e+01],\n",
              "       [1.53022282e+01],\n",
              "       [1.30003658e+01],\n",
              "       [9.04258408e-01],\n",
              "       [1.05320281e+01],\n",
              "       [1.73560227e+01],\n",
              "       [3.08271010e+00],\n",
              "       [4.57367216e+00],\n",
              "       [5.32941869e+00],\n",
              "       [5.59921891e+00],\n",
              "       [1.58961924e+01],\n",
              "       [2.11812139e+00],\n",
              "       [2.79024229e+01],\n",
              "       [4.05875629e+00],\n",
              "       [3.23239119e+00],\n",
              "       [3.81738040e+01],\n",
              "       [4.10062799e+01],\n",
              "       [4.19354680e+01],\n",
              "       [3.75419185e+01],\n",
              "       [4.28600191e+00],\n",
              "       [1.21271473e+01],\n",
              "       [3.84636431e+01],\n",
              "       [1.25745066e+01],\n",
              "       [3.24348666e+00],\n",
              "       [8.38524032e+01],\n",
              "       [9.77907412e+01],\n",
              "       [2.26929325e+01],\n",
              "       [1.30718384e+01],\n",
              "       [5.74307687e+01],\n",
              "       [2.18460854e+01],\n",
              "       [3.31053674e+01],\n",
              "       [3.17974429e+01],\n",
              "       [4.09988746e+01],\n",
              "       [8.17885959e+00],\n",
              "       [2.34021578e+00],\n",
              "       [1.05691153e+00],\n",
              "       [8.94133693e+01],\n",
              "       [8.46845944e+01],\n",
              "       [5.89676368e+01],\n",
              "       [7.39577879e+00],\n",
              "       [9.29867152e+00],\n",
              "       [2.06447134e+00],\n",
              "       [3.66692078e+00],\n",
              "       [1.04610885e+02],\n",
              "       [1.26489966e+01],\n",
              "       [2.33861560e+01],\n",
              "       [3.37666710e+01],\n",
              "       [5.13399333e-01],\n",
              "       [1.10316932e+01],\n",
              "       [3.92426979e+00],\n",
              "       [1.61031379e+01],\n",
              "       [4.70650860e+01],\n",
              "       [2.73655400e+00],\n",
              "       [7.76163593e-01],\n",
              "       [5.82488812e+00],\n",
              "       [5.42716102e-01],\n",
              "       [2.66864938e+01],\n",
              "       [8.39095621e+00],\n",
              "       [1.19312873e-02],\n",
              "       [2.18779933e+01],\n",
              "       [2.47697106e+00],\n",
              "       [2.80450011e+00],\n",
              "       [9.92800803e+00],\n",
              "       [5.45028564e+01],\n",
              "       [1.17030798e+02],\n",
              "       [1.57293826e+01],\n",
              "       [1.65045388e+01],\n",
              "       [2.72334341e+00],\n",
              "       [3.10760298e+01],\n",
              "       [2.41303227e+00],\n",
              "       [4.28458727e+01],\n",
              "       [7.64942945e+00],\n",
              "       [3.88848871e+01],\n",
              "       [3.14369749e+01],\n",
              "       [3.66657955e+01],\n",
              "       [2.71767967e+01],\n",
              "       [4.31425335e+01],\n",
              "       [1.17702272e+01],\n",
              "       [7.91200658e+01],\n",
              "       [9.21141226e+01],\n",
              "       [2.90973660e+01],\n",
              "       [6.34282352e+01]])"
            ]
          },
          "metadata": {},
          "execution_count": 5
        }
      ]
    },
    {
      "cell_type": "code",
      "source": [
        "plt.plot(x,y,'b.')\n",
        "plt.xlabel(\"x\")\n",
        "plt.ylabel(\"y\")\n",
        "plt.show()"
      ],
      "metadata": {
        "colab": {
          "base_uri": "https://localhost:8080/",
          "height": 449
        },
        "id": "GR4pFGSfGwO0",
        "outputId": "8e22864d-bceb-4619-9c75-cdaa901301cf"
      },
      "execution_count": 4,
      "outputs": [
        {
          "output_type": "display_data",
          "data": {
            "text/plain": [
              "<Figure size 640x480 with 1 Axes>"
            ],
            "image/png": "[encoded data removed]"
          },
          "metadata": {}
        }
      ]
    },
    {
      "cell_type": "code",
      "source": [
        "x_train ,x_test , y_train, y_test = train_test_split(x,y,test_size=0.2,random_state=2)"
      ],
      "metadata": {
        "id": "9sM8VWfLHEAI"
      },
      "execution_count": 5,
      "outputs": []
    },
    {
      "cell_type": "code",
      "source": [
        "lr = LinearRegression()"
      ],
      "metadata": {
        "id": "FpAs8NeTkJSQ"
      },
      "execution_count": 6,
      "outputs": []
    },
    {
      "cell_type": "code",
      "source": [
        "lr.fit(x_train,y_train)"
      ],
      "metadata": {
        "colab": {
          "base_uri": "https://localhost:8080/",
          "height": 74
        },
        "id": "piqRWBDykVC2",
        "outputId": "2b9f307c-276b-411b-e3d4-9cd9acfd56eb"
      },
      "execution_count": 7,
      "outputs": [
        {
          "output_type": "execute_result",
          "data": {
            "text/plain": [
              "LinearRegression()"
            ],
            "text/html": [
              "<style>#sk-container-id-1 {color: black;background-color: white;}#sk-container-id-1 pre{padding: 0;}#sk-container-id-1 div.sk-toggleable {background-color: white;}#sk-container-id-1 label.sk-toggleable__label {cursor: pointer;display: block;width: 100%;margin-bottom: 0;padding: 0.3em;box-sizing: border-box;text-align: center;}#sk-container-id-1 label.sk-toggleable__label-arrow:before {content: \"▸\";float: left;margin-right: 0.25em;color: #696969;}#sk-container-id-1 label.sk-toggleable__label-arrow:hover:before {color: black;}#sk-container-id-1 div.sk-estimator:hover label.sk-toggleable__label-arrow:before {color: black;}#sk-container-id-1 div.sk-toggleable__content {max-height: 0;max-width: 0;overflow: hidden;text-align: left;background-color: #f0f8ff;}#sk-container-id-1 div.sk-toggleable__content pre {margin: 0.2em;color: black;border-radius: 0.25em;background-color: #f0f8ff;}#sk-container-id-1 input.sk-toggleable__control:checked~div.sk-toggleable__content {max-height: 200px;max-width: 100%;overflow: auto;}#sk-container-id-1 input.sk-toggleable__control:checked~label.sk-toggleable__label-arrow:before {content: \"▾\";}#sk-container-id-1 div.sk-estimator input.sk-toggleable__control:checked~label.sk-toggleable__label {background-color: #d4ebff;}#sk-container-id-1 div.sk-label input.sk-toggleable__control:checked~label.sk-toggleable__label {background-color: #d4ebff;}#sk-container-id-1 input.sk-hidden--visually {border: 0;clip: rect(1px 1px 1px 1px);clip: rect(1px, 1px, 1px, 1px);height: 1px;margin: -1px;overflow: hidden;padding: 0;position: absolute;width: 1px;}#sk-container-id-1 div.sk-estimator {font-family: monospace;background-color: #f0f8ff;border: 1px dotted black;border-radius: 0.25em;box-sizing: border-box;margin-bottom: 0.5em;}#sk-container-id-1 div.sk-estimator:hover {background-color: #d4ebff;}#sk-container-id-1 div.sk-parallel-item::after {content: \"\";width: 100%;border-bottom: 1px solid gray;flex-grow: 1;}#sk-container-id-1 div.sk-label:hover label.sk-toggleable__label {background-color: #d4ebff;}#sk-container-id-1 div.sk-serial::before {content: \"\";position: absolute;border-left: 1px solid gray;box-sizing: border-box;top: 0;bottom: 0;left: 50%;z-index: 0;}#sk-container-id-1 div.sk-serial {display: flex;flex-direction: column;align-items: center;background-color: white;padding-right: 0.2em;padding-left: 0.2em;position: relative;}#sk-container-id-1 div.sk-item {position: relative;z-index: 1;}#sk-container-id-1 div.sk-parallel {display: flex;align-items: stretch;justify-content: center;background-color: white;position: relative;}#sk-container-id-1 div.sk-item::before, #sk-container-id-1 div.sk-parallel-item::before {content: \"\";position: absolute;border-left: 1px solid gray;box-sizing: border-box;top: 0;bottom: 0;left: 50%;z-index: -1;}#sk-container-id-1 div.sk-parallel-item {display: flex;flex-direction: column;z-index: 1;position: relative;background-color: white;}#sk-container-id-1 div.sk-parallel-item:first-child::after {align-self: flex-end;width: 50%;}#sk-container-id-1 div.sk-parallel-item:last-child::after {align-self: flex-start;width: 50%;}#sk-container-id-1 div.sk-parallel-item:only-child::after {width: 0;}#sk-container-id-1 div.sk-dashed-wrapped {border: 1px dashed gray;margin: 0 0.4em 0.5em 0.4em;box-sizing: border-box;padding-bottom: 0.4em;background-color: white;}#sk-container-id-1 div.sk-label label {font-family: monospace;font-weight: bold;display: inline-block;line-height: 1.2em;}#sk-container-id-1 div.sk-label-container {text-align: center;}#sk-container-id-1 div.sk-container {/* jupyter's `normalize.less` sets `[hidden] { display: none; }` but bootstrap.min.css set `[hidden] { display: none !important; }` so we also need the `!important` here to be able to override the default hidden behavior on the sphinx rendered scikit-learn.org. See: https://github.com/scikit-learn/scikit-learn/issues/21755 */display: inline-block !important;position: relative;}#sk-container-id-1 div.sk-text-repr-fallback {display: none;}</style><div id=\"sk-container-id-1\" class=\"sk-top-container\"><div class=\"sk-text-repr-fallback\"><pre>LinearRegression()</pre><b>In a Jupyter environment, please rerun this cell to show the HTML representation or trust the notebook. <br />On GitHub, the HTML representation is unable to render, please try loading this page with nbviewer.org.</b></div><div class=\"sk-container\" hidden><div class=\"sk-item\"><div class=\"sk-estimator sk-toggleable\"><input class=\"sk-toggleable__control sk-hidden--visually\" id=\"sk-estimator-id-1\" type=\"checkbox\" checked><label for=\"sk-estimator-id-1\" class=\"sk-toggleable__label sk-toggleable__label-arrow\">LinearRegression</label><div class=\"sk-toggleable__content\"><pre>LinearRegression()</pre></div></div></div></div></div>"
            ]
          },
          "metadata": {},
          "execution_count": 7
        }
      ]
    },
    {
      "cell_type": "code",
      "source": [
        "y_pred = lr.predict(x_test)"
      ],
      "metadata": {
        "id": "kBcKp3mWkZd2"
      },
      "execution_count": 11,
      "outputs": []
    },
    {
      "cell_type": "code",
      "source": [
        "r2_score(y_test,y_pred)"
      ],
      "metadata": {
        "colab": {
          "base_uri": "https://localhost:8080/"
        },
        "id": "rcdkML-Ckcf4",
        "outputId": "84c3666d-e302-48f3-bde3-e7445c427904"
      },
      "execution_count": 12,
      "outputs": [
        {
          "output_type": "execute_result",
          "data": {
            "text/plain": [
              "0.44441908139238395"
            ]
          },
          "metadata": {},
          "execution_count": 12
        }
      ]
    },
    {
      "cell_type": "code",
      "source": [
        "plt.plot(x_train,lr.predict(x_train),color='r')\n",
        "plt.xlabel(\"x\")\n",
        "plt.ylabel(\"y\")\n",
        "plt.plot(x,y,\"b.\")\n",
        "plt.show()"
      ],
      "metadata": {
        "colab": {
          "base_uri": "https://localhost:8080/",
          "height": 449
        },
        "id": "wR1sZbsGksGz",
        "outputId": "de58e98e-5955-4e07-bffa-275ac97aa32c"
      },
      "execution_count": 13,
      "outputs": [
        {
          "output_type": "display_data",
          "data": {
            "text/plain": [
              "<Figure size 640x480 with 1 Axes>"
            ],
            "image/png": "[encoded data removed]"
          },
          "metadata": {}
        }
      ]
    },
    {
      "cell_type": "code",
      "source": [],
      "metadata": {
        "id": "2jVGKo8flmIu"
      },
      "execution_count": null,
      "outputs": []
    }
  ]
}