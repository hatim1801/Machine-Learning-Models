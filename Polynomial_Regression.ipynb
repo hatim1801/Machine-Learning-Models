{
  "nbformat": 4,
  "nbformat_minor": 0,
  "metadata": {
    "colab": {
      "provenance": [],
      "authorship_tag": "ABX9TyMlvkzp2Zo4CY/rmGA5uRk7",
      "include_colab_link": true
    },
    "kernelspec": {
      "name": "python3",
      "display_name": "Python 3"
    },
    "language_info": {
      "name": "python"
    }
  },
  "cells": [
    {
      "cell_type": "markdown",
      "metadata": {
        "id": "view-in-github",
        "colab_type": "text"
      },
      "source": [
        "<a href=\"https://colab.research.google.com/github/hatim1801/Machine-Learning-Models/blob/main/Polynomial_Regression.ipynb\" target=\"_parent\"><img src=\"https://colab.research.google.com/assets/colab-badge.svg\" alt=\"Open In Colab\"/></a>"
      ]
    },
    {
      "cell_type": "code",
      "execution_count": 14,
      "metadata": {
        "id": "-u37DsKlFUeN"
      },
      "outputs": [],
      "source": [
        "import numpy as np\n",
        "import pandas as pd\n",
        "import matplotlib.pyplot as plt\n",
        "from sklearn.model_selection import train_test_split\n",
        "from sklearn.preprocessing import StandardScaler,PolynomialFeatures\n",
        "from sklearn.linear_model import LinearRegression\n",
        "from sklearn.metrics import mean_squared_error,r2_score"
      ]
    },
    {
      "cell_type": "code",
      "source": [
        "x = 6 * np.random.rand(100,1) - 3\n",
        "y = 0.5 * x**2 + x+2 + np.random.randn(100,1)"
      ],
      "metadata": {
        "id": "IQi_fk6oGFk3"
      },
      "execution_count": 72,
      "outputs": []
    },
    {
      "cell_type": "code",
      "source": [
        "x"
      ],
      "metadata": {
        "colab": {
          "base_uri": "https://localhost:8080/"
        },
        "id": "L8Zex-sWGp9d",
        "outputId": "bbbe865b-4ecc-451f-ffdc-276f10ece3c0"
      },
      "execution_count": 73,
      "outputs": [
        {
          "output_type": "execute_result",
          "data": {
            "text/plain": [
              "array([[-0.78908292],\n",
              "       [-2.77567078],\n",
              "       [-1.62388314],\n",
              "       [ 2.02885173],\n",
              "       [-1.57623978],\n",
              "       [-2.63797213],\n",
              "       [ 0.54300738],\n",
              "       [ 2.53618962],\n",
              "       [-1.82840941],\n",
              "       [-0.13112553],\n",
              "       [-0.93078974],\n",
              "       [-0.52373839],\n",
              "       [ 2.53027651],\n",
              "       [-2.9769021 ],\n",
              "       [-2.99778142],\n",
              "       [-1.05545466],\n",
              "       [ 0.4453685 ],\n",
              "       [ 2.1717861 ],\n",
              "       [-2.49937195],\n",
              "       [-0.0187208 ],\n",
              "       [ 1.0619707 ],\n",
              "       [ 0.42705398],\n",
              "       [ 1.99819459],\n",
              "       [ 2.57037387],\n",
              "       [-0.82127257],\n",
              "       [-1.90566893],\n",
              "       [-2.73592773],\n",
              "       [ 1.45595587],\n",
              "       [-1.21804589],\n",
              "       [-2.9460121 ],\n",
              "       [-2.06026351],\n",
              "       [-1.53122888],\n",
              "       [ 1.09549513],\n",
              "       [-2.83880118],\n",
              "       [-2.36039364],\n",
              "       [-2.22717399],\n",
              "       [-2.1787669 ],\n",
              "       [ 2.15422468],\n",
              "       [ 1.40203941],\n",
              "       [ 2.43185599],\n",
              "       [ 0.4164814 ],\n",
              "       [ 1.35144577],\n",
              "       [ 1.40602391],\n",
              "       [ 1.44719232],\n",
              "       [ 0.09838716],\n",
              "       [-1.22305808],\n",
              "       [ 2.89509671],\n",
              "       [-1.70772881],\n",
              "       [-1.74671474],\n",
              "       [ 1.81753708],\n",
              "       [ 2.63195325],\n",
              "       [ 2.93163468],\n",
              "       [-1.22931113],\n",
              "       [-1.07873664],\n",
              "       [-2.36729512],\n",
              "       [-0.16555763],\n",
              "       [-0.92388028],\n",
              "       [-0.86010732],\n",
              "       [ 1.71430444],\n",
              "       [-2.08288834],\n",
              "       [ 1.01771851],\n",
              "       [ 1.49809919],\n",
              "       [ 1.5841674 ],\n",
              "       [ 0.88891559],\n",
              "       [ 1.17794759],\n",
              "       [ 1.05560002],\n",
              "       [ 0.84374888],\n",
              "       [ 2.34190533],\n",
              "       [-1.91962013],\n",
              "       [-1.2879413 ],\n",
              "       [ 0.46034655],\n",
              "       [ 2.5313084 ],\n",
              "       [ 1.81096793],\n",
              "       [-2.08864542],\n",
              "       [-2.3707203 ],\n",
              "       [ 2.40012829],\n",
              "       [-0.20671345],\n",
              "       [-2.06769956],\n",
              "       [ 2.83435343],\n",
              "       [ 0.93345269],\n",
              "       [-2.75912402],\n",
              "       [-1.04197922],\n",
              "       [-1.04806655],\n",
              "       [ 2.1752589 ],\n",
              "       [ 0.05189214],\n",
              "       [-0.50001299],\n",
              "       [-1.40395349],\n",
              "       [ 1.45380634],\n",
              "       [ 2.07537019],\n",
              "       [ 2.79681306],\n",
              "       [-1.33210931],\n",
              "       [-0.26989846],\n",
              "       [ 2.59308134],\n",
              "       [-1.25625584],\n",
              "       [ 2.0069053 ],\n",
              "       [-2.10102823],\n",
              "       [ 2.24377161],\n",
              "       [ 1.78213303],\n",
              "       [-2.12001288],\n",
              "       [ 2.82116492]])"
            ]
          },
          "metadata": {},
          "execution_count": 73
        }
      ]
    },
    {
      "cell_type": "code",
      "source": [
        "y"
      ],
      "metadata": {
        "colab": {
          "base_uri": "https://localhost:8080/"
        },
        "id": "f0XqkqHyGudW",
        "outputId": "ac9b1e5f-50d0-4a7a-92fd-7106aa9b36f0"
      },
      "execution_count": 74,
      "outputs": [
        {
          "output_type": "execute_result",
          "data": {
            "text/plain": [
              "array([[ 1.57933465],\n",
              "       [ 1.44358964],\n",
              "       [ 1.22546522],\n",
              "       [ 4.89373898],\n",
              "       [ 2.18025473],\n",
              "       [ 2.80499505],\n",
              "       [ 1.55844128],\n",
              "       [ 8.66515406],\n",
              "       [ 2.54262856],\n",
              "       [ 1.91215189],\n",
              "       [ 0.68549556],\n",
              "       [ 0.13660109],\n",
              "       [ 7.77462985],\n",
              "       [ 5.7772233 ],\n",
              "       [ 2.59665115],\n",
              "       [ 0.55660948],\n",
              "       [ 2.69438065],\n",
              "       [ 6.62389013],\n",
              "       [ 1.46755792],\n",
              "       [ 1.81773455],\n",
              "       [ 1.15113632],\n",
              "       [ 2.57377202],\n",
              "       [ 6.614276  ],\n",
              "       [ 7.70931177],\n",
              "       [ 1.40002832],\n",
              "       [ 2.42471991],\n",
              "       [ 1.25794906],\n",
              "       [ 3.91343906],\n",
              "       [ 2.82364547],\n",
              "       [ 5.14350576],\n",
              "       [ 1.37032731],\n",
              "       [ 2.07700388],\n",
              "       [ 4.69202562],\n",
              "       [ 2.50987892],\n",
              "       [ 1.94840489],\n",
              "       [ 0.64236925],\n",
              "       [ 1.81622728],\n",
              "       [ 6.19412929],\n",
              "       [ 6.30266189],\n",
              "       [ 8.28007525],\n",
              "       [ 1.28095349],\n",
              "       [ 3.52392321],\n",
              "       [ 4.11932665],\n",
              "       [ 5.14270841],\n",
              "       [ 2.18392766],\n",
              "       [ 1.49341555],\n",
              "       [ 8.70376238],\n",
              "       [ 3.79772215],\n",
              "       [ 3.71579083],\n",
              "       [ 4.85227953],\n",
              "       [ 7.87618741],\n",
              "       [ 9.32087749],\n",
              "       [ 1.77074453],\n",
              "       [ 1.00529038],\n",
              "       [ 1.91898018],\n",
              "       [ 1.93426269],\n",
              "       [ 0.84346797],\n",
              "       [ 2.70022056],\n",
              "       [ 5.42689573],\n",
              "       [ 1.92754718],\n",
              "       [ 3.98315453],\n",
              "       [ 3.54183906],\n",
              "       [ 4.64157438],\n",
              "       [ 3.75067887],\n",
              "       [ 2.84389293],\n",
              "       [ 2.5923681 ],\n",
              "       [ 3.65392486],\n",
              "       [ 7.89270259],\n",
              "       [ 1.85376845],\n",
              "       [ 2.66470222],\n",
              "       [ 4.07519633],\n",
              "       [ 6.97608228],\n",
              "       [ 7.5942886 ],\n",
              "       [ 2.74740313],\n",
              "       [ 2.11101688],\n",
              "       [ 7.76099949],\n",
              "       [ 1.69522231],\n",
              "       [ 2.75456869],\n",
              "       [ 9.14928704],\n",
              "       [ 4.69236805],\n",
              "       [ 0.84462891],\n",
              "       [ 1.29211315],\n",
              "       [ 1.39887886],\n",
              "       [ 4.58476063],\n",
              "       [ 1.96304318],\n",
              "       [-0.21819562],\n",
              "       [ 2.69124381],\n",
              "       [ 3.49930156],\n",
              "       [ 8.21539175],\n",
              "       [ 8.02385152],\n",
              "       [ 2.01856475],\n",
              "       [ 3.05977943],\n",
              "       [ 7.50691085],\n",
              "       [ 0.8323422 ],\n",
              "       [ 7.7954423 ],\n",
              "       [ 3.99954594],\n",
              "       [ 7.04996217],\n",
              "       [ 6.66031729],\n",
              "       [ 2.73128326],\n",
              "       [ 9.93987487]])"
            ]
          },
          "metadata": {},
          "execution_count": 74
        }
      ]
    },
    {
      "cell_type": "code",
      "source": [
        "plt.plot(x,y,'b.')\n",
        "plt.xlabel(\"x\")\n",
        "plt.ylabel(\"y\")\n",
        "plt.show()"
      ],
      "metadata": {
        "colab": {
          "base_uri": "https://localhost:8080/",
          "height": 449
        },
        "id": "GR4pFGSfGwO0",
        "outputId": "1108c784-3f1a-4e40-f1e9-e6a58700c897"
      },
      "execution_count": 75,
      "outputs": [
        {
          "output_type": "display_data",
          "data": {
            "text/plain": [
              "<Figure size 640x480 with 1 Axes>"
            ],
            "image/png": "[encoded data removed]"
          },
          "metadata": {}
        }
      ]
    },
    {
      "cell_type": "code",
      "source": [
        "x_train ,x_test , y_train, y_test = train_test_split(x,y,test_size=0.2,random_state=2)"
      ],
      "metadata": {
        "id": "9sM8VWfLHEAI"
      },
      "execution_count": 76,
      "outputs": []
    },
    {
      "cell_type": "code",
      "source": [
        "lr = LinearRegression()"
      ],
      "metadata": {
        "id": "FpAs8NeTkJSQ"
      },
      "execution_count": 77,
      "outputs": []
    },
    {
      "cell_type": "code",
      "source": [
        "lr.fit(x_train,y_train)"
      ],
      "metadata": {
        "colab": {
          "base_uri": "https://localhost:8080/",
          "height": 74
        },
        "id": "piqRWBDykVC2",
        "outputId": "a4a174b7-4dfe-4a6a-a50c-4bf3dc06e1bf"
      },
      "execution_count": 78,
      "outputs": [
        {
          "output_type": "execute_result",
          "data": {
            "text/plain": [
              "LinearRegression()"
            ],
            "text/html": [
              "<style>#sk-container-id-5 {color: black;background-color: white;}#sk-container-id-5 pre{padding: 0;}#sk-container-id-5 div.sk-toggleable {background-color: white;}#sk-container-id-5 label.sk-toggleable__label {cursor: pointer;display: block;width: 100%;margin-bottom: 0;padding: 0.3em;box-sizing: border-box;text-align: center;}#sk-container-id-5 label.sk-toggleable__label-arrow:before {content: \"▸\";float: left;margin-right: 0.25em;color: #696969;}#sk-container-id-5 label.sk-toggleable__label-arrow:hover:before {color: black;}#sk-container-id-5 div.sk-estimator:hover label.sk-toggleable__label-arrow:before {color: black;}#sk-container-id-5 div.sk-toggleable__content {max-height: 0;max-width: 0;overflow: hidden;text-align: left;background-color: #f0f8ff;}#sk-container-id-5 div.sk-toggleable__content pre {margin: 0.2em;color: black;border-radius: 0.25em;background-color: #f0f8ff;}#sk-container-id-5 input.sk-toggleable__control:checked~div.sk-toggleable__content {max-height: 200px;max-width: 100%;overflow: auto;}#sk-container-id-5 input.sk-toggleable__control:checked~label.sk-toggleable__label-arrow:before {content: \"▾\";}#sk-container-id-5 div.sk-estimator input.sk-toggleable__control:checked~label.sk-toggleable__label {background-color: #d4ebff;}#sk-container-id-5 div.sk-label input.sk-toggleable__control:checked~label.sk-toggleable__label {background-color: #d4ebff;}#sk-container-id-5 input.sk-hidden--visually {border: 0;clip: rect(1px 1px 1px 1px);clip: rect(1px, 1px, 1px, 1px);height: 1px;margin: -1px;overflow: hidden;padding: 0;position: absolute;width: 1px;}#sk-container-id-5 div.sk-estimator {font-family: monospace;background-color: #f0f8ff;border: 1px dotted black;border-radius: 0.25em;box-sizing: border-box;margin-bottom: 0.5em;}#sk-container-id-5 div.sk-estimator:hover {background-color: #d4ebff;}#sk-container-id-5 div.sk-parallel-item::after {content: \"\";width: 100%;border-bottom: 1px solid gray;flex-grow: 1;}#sk-container-id-5 div.sk-label:hover label.sk-toggleable__label {background-color: #d4ebff;}#sk-container-id-5 div.sk-serial::before {content: \"\";position: absolute;border-left: 1px solid gray;box-sizing: border-box;top: 0;bottom: 0;left: 50%;z-index: 0;}#sk-container-id-5 div.sk-serial {display: flex;flex-direction: column;align-items: center;background-color: white;padding-right: 0.2em;padding-left: 0.2em;position: relative;}#sk-container-id-5 div.sk-item {position: relative;z-index: 1;}#sk-container-id-5 div.sk-parallel {display: flex;align-items: stretch;justify-content: center;background-color: white;position: relative;}#sk-container-id-5 div.sk-item::before, #sk-container-id-5 div.sk-parallel-item::before {content: \"\";position: absolute;border-left: 1px solid gray;box-sizing: border-box;top: 0;bottom: 0;left: 50%;z-index: -1;}#sk-container-id-5 div.sk-parallel-item {display: flex;flex-direction: column;z-index: 1;position: relative;background-color: white;}#sk-container-id-5 div.sk-parallel-item:first-child::after {align-self: flex-end;width: 50%;}#sk-container-id-5 div.sk-parallel-item:last-child::after {align-self: flex-start;width: 50%;}#sk-container-id-5 div.sk-parallel-item:only-child::after {width: 0;}#sk-container-id-5 div.sk-dashed-wrapped {border: 1px dashed gray;margin: 0 0.4em 0.5em 0.4em;box-sizing: border-box;padding-bottom: 0.4em;background-color: white;}#sk-container-id-5 div.sk-label label {font-family: monospace;font-weight: bold;display: inline-block;line-height: 1.2em;}#sk-container-id-5 div.sk-label-container {text-align: center;}#sk-container-id-5 div.sk-container {/* jupyter's `normalize.less` sets `[hidden] { display: none; }` but bootstrap.min.css set `[hidden] { display: none !important; }` so we also need the `!important` here to be able to override the default hidden behavior on the sphinx rendered scikit-learn.org. See: https://github.com/scikit-learn/scikit-learn/issues/21755 */display: inline-block !important;position: relative;}#sk-container-id-5 div.sk-text-repr-fallback {display: none;}</style><div id=\"sk-container-id-5\" class=\"sk-top-container\"><div class=\"sk-text-repr-fallback\"><pre>LinearRegression()</pre><b>In a Jupyter environment, please rerun this cell to show the HTML representation or trust the notebook. <br />On GitHub, the HTML representation is unable to render, please try loading this page with nbviewer.org.</b></div><div class=\"sk-container\" hidden><div class=\"sk-item\"><div class=\"sk-estimator sk-toggleable\"><input class=\"sk-toggleable__control sk-hidden--visually\" id=\"sk-estimator-id-5\" type=\"checkbox\" checked><label for=\"sk-estimator-id-5\" class=\"sk-toggleable__label sk-toggleable__label-arrow\">LinearRegression</label><div class=\"sk-toggleable__content\"><pre>LinearRegression()</pre></div></div></div></div></div>"
            ]
          },
          "metadata": {},
          "execution_count": 78
        }
      ]
    },
    {
      "cell_type": "code",
      "source": [
        "y_pred = lr.predict(x_test)"
      ],
      "metadata": {
        "id": "kBcKp3mWkZd2"
      },
      "execution_count": 79,
      "outputs": []
    },
    {
      "cell_type": "code",
      "source": [
        "r2_score(y_test,y_pred)"
      ],
      "metadata": {
        "colab": {
          "base_uri": "https://localhost:8080/"
        },
        "id": "rcdkML-Ckcf4",
        "outputId": "5b724bc8-59c1-4f8f-d142-f95e45ffbc63"
      },
      "execution_count": 80,
      "outputs": [
        {
          "output_type": "execute_result",
          "data": {
            "text/plain": [
              "0.1965318280377737"
            ]
          },
          "metadata": {},
          "execution_count": 80
        }
      ]
    },
    {
      "cell_type": "code",
      "source": [
        "plt.plot(x_train,lr.predict(x_train),color='r')\n",
        "plt.xlabel(\"x\")\n",
        "plt.ylabel(\"y\")\n",
        "plt.plot(x,y,\"b.\")\n",
        "plt.show()"
      ],
      "metadata": {
        "colab": {
          "base_uri": "https://localhost:8080/",
          "height": 449
        },
        "id": "wR1sZbsGksGz",
        "outputId": "8256296c-1bb2-42b9-fc37-084d027c1cb6"
      },
      "execution_count": 81,
      "outputs": [
        {
          "output_type": "display_data",
          "data": {
            "text/plain": [
              "<Figure size 640x480 with 1 Axes>"
            ],
            "image/png": "[encoded data removed]"
          },
          "metadata": {}
        }
      ]
    },
    {
      "cell_type": "code",
      "source": [
        "poly = PolynomialFeatures(degree=2)\n",
        "x_train_trans = poly.fit_transform(x_train)\n",
        "x_test_trans = poly.fit(x_test)"
      ],
      "metadata": {
        "id": "2jVGKo8flmIu"
      },
      "execution_count": 82,
      "outputs": []
    },
    {
      "cell_type": "code",
      "source": [
        "print(x_train[0])\n",
        "print(x_train_trans[0])"
      ],
      "metadata": {
        "colab": {
          "base_uri": "https://localhost:8080/"
        },
        "id": "dyJ1Qdzkmnpa",
        "outputId": "cd1e327c-7983-454b-d035-5b61065bccf0"
      },
      "execution_count": 83,
      "outputs": [
        {
          "output_type": "stream",
          "name": "stdout",
          "text": [
            "[-2.22717399]\n",
            "[ 1.         -2.22717399  4.96030397]\n"
          ]
        }
      ]
    },
    {
      "cell_type": "code",
      "source": [
        "lr = LinearRegression()\n",
        "lr.fit(x_train_trans, y_train)"
      ],
      "metadata": {
        "colab": {
          "base_uri": "https://localhost:8080/",
          "height": 74
        },
        "id": "wtY54BTxmyG1",
        "outputId": "252b828f-e380-49ca-e5ad-46806cfe6e81"
      },
      "execution_count": 84,
      "outputs": [
        {
          "output_type": "execute_result",
          "data": {
            "text/plain": [
              "LinearRegression()"
            ],
            "text/html": [
              "<style>#sk-container-id-6 {color: black;background-color: white;}#sk-container-id-6 pre{padding: 0;}#sk-container-id-6 div.sk-toggleable {background-color: white;}#sk-container-id-6 label.sk-toggleable__label {cursor: pointer;display: block;width: 100%;margin-bottom: 0;padding: 0.3em;box-sizing: border-box;text-align: center;}#sk-container-id-6 label.sk-toggleable__label-arrow:before {content: \"▸\";float: left;margin-right: 0.25em;color: #696969;}#sk-container-id-6 label.sk-toggleable__label-arrow:hover:before {color: black;}#sk-container-id-6 div.sk-estimator:hover label.sk-toggleable__label-arrow:before {color: black;}#sk-container-id-6 div.sk-toggleable__content {max-height: 0;max-width: 0;overflow: hidden;text-align: left;background-color: #f0f8ff;}#sk-container-id-6 div.sk-toggleable__content pre {margin: 0.2em;color: black;border-radius: 0.25em;background-color: #f0f8ff;}#sk-container-id-6 input.sk-toggleable__control:checked~div.sk-toggleable__content {max-height: 200px;max-width: 100%;overflow: auto;}#sk-container-id-6 input.sk-toggleable__control:checked~label.sk-toggleable__label-arrow:before {content: \"▾\";}#sk-container-id-6 div.sk-estimator input.sk-toggleable__control:checked~label.sk-toggleable__label {background-color: #d4ebff;}#sk-container-id-6 div.sk-label input.sk-toggleable__control:checked~label.sk-toggleable__label {background-color: #d4ebff;}#sk-container-id-6 input.sk-hidden--visually {border: 0;clip: rect(1px 1px 1px 1px);clip: rect(1px, 1px, 1px, 1px);height: 1px;margin: -1px;overflow: hidden;padding: 0;position: absolute;width: 1px;}#sk-container-id-6 div.sk-estimator {font-family: monospace;background-color: #f0f8ff;border: 1px dotted black;border-radius: 0.25em;box-sizing: border-box;margin-bottom: 0.5em;}#sk-container-id-6 div.sk-estimator:hover {background-color: #d4ebff;}#sk-container-id-6 div.sk-parallel-item::after {content: \"\";width: 100%;border-bottom: 1px solid gray;flex-grow: 1;}#sk-container-id-6 div.sk-label:hover label.sk-toggleable__label {background-color: #d4ebff;}#sk-container-id-6 div.sk-serial::before {content: \"\";position: absolute;border-left: 1px solid gray;box-sizing: border-box;top: 0;bottom: 0;left: 50%;z-index: 0;}#sk-container-id-6 div.sk-serial {display: flex;flex-direction: column;align-items: center;background-color: white;padding-right: 0.2em;padding-left: 0.2em;position: relative;}#sk-container-id-6 div.sk-item {position: relative;z-index: 1;}#sk-container-id-6 div.sk-parallel {display: flex;align-items: stretch;justify-content: center;background-color: white;position: relative;}#sk-container-id-6 div.sk-item::before, #sk-container-id-6 div.sk-parallel-item::before {content: \"\";position: absolute;border-left: 1px solid gray;box-sizing: border-box;top: 0;bottom: 0;left: 50%;z-index: -1;}#sk-container-id-6 div.sk-parallel-item {display: flex;flex-direction: column;z-index: 1;position: relative;background-color: white;}#sk-container-id-6 div.sk-parallel-item:first-child::after {align-self: flex-end;width: 50%;}#sk-container-id-6 div.sk-parallel-item:last-child::after {align-self: flex-start;width: 50%;}#sk-container-id-6 div.sk-parallel-item:only-child::after {width: 0;}#sk-container-id-6 div.sk-dashed-wrapped {border: 1px dashed gray;margin: 0 0.4em 0.5em 0.4em;box-sizing: border-box;padding-bottom: 0.4em;background-color: white;}#sk-container-id-6 div.sk-label label {font-family: monospace;font-weight: bold;display: inline-block;line-height: 1.2em;}#sk-container-id-6 div.sk-label-container {text-align: center;}#sk-container-id-6 div.sk-container {/* jupyter's `normalize.less` sets `[hidden] { display: none; }` but bootstrap.min.css set `[hidden] { display: none !important; }` so we also need the `!important` here to be able to override the default hidden behavior on the sphinx rendered scikit-learn.org. See: https://github.com/scikit-learn/scikit-learn/issues/21755 */display: inline-block !important;position: relative;}#sk-container-id-6 div.sk-text-repr-fallback {display: none;}</style><div id=\"sk-container-id-6\" class=\"sk-top-container\"><div class=\"sk-text-repr-fallback\"><pre>LinearRegression()</pre><b>In a Jupyter environment, please rerun this cell to show the HTML representation or trust the notebook. <br />On GitHub, the HTML representation is unable to render, please try loading this page with nbviewer.org.</b></div><div class=\"sk-container\" hidden><div class=\"sk-item\"><div class=\"sk-estimator sk-toggleable\"><input class=\"sk-toggleable__control sk-hidden--visually\" id=\"sk-estimator-id-6\" type=\"checkbox\" checked><label for=\"sk-estimator-id-6\" class=\"sk-toggleable__label sk-toggleable__label-arrow\">LinearRegression</label><div class=\"sk-toggleable__content\"><pre>LinearRegression()</pre></div></div></div></div></div>"
            ]
          },
          "metadata": {},
          "execution_count": 84
        }
      ]
    },
    {
      "cell_type": "code",
      "source": [
        "x_train_trans = poly.fit_transform(x_train)\n",
        "x_test_trans = poly.transform(x_test)"
      ],
      "metadata": {
        "id": "TLWy0_7trQTI"
      },
      "execution_count": 87,
      "outputs": []
    },
    {
      "cell_type": "code",
      "source": [
        "y_pred = lr.predict(x_test_trans)\n",
        "y_pred = y_pred.reshape(-1,1)"
      ],
      "metadata": {
        "id": "EgJ1cG59nYzb"
      },
      "execution_count": 89,
      "outputs": []
    },
    {
      "cell_type": "code",
      "source": [
        "r2_score(y_test,y_pred)"
      ],
      "metadata": {
        "colab": {
          "base_uri": "https://localhost:8080/"
        },
        "id": "Njs_2duGngzN",
        "outputId": "c26b474b-8449-4f02-9048-2b82860820dd"
      },
      "execution_count": 91,
      "outputs": [
        {
          "output_type": "execute_result",
          "data": {
            "text/plain": [
              "0.7662402906358219"
            ]
          },
          "metadata": {},
          "execution_count": 91
        }
      ]
    },
    {
      "cell_type": "code",
      "source": [
        "X_new=np.linspace(-3, 3, 200).reshape(200, 1)\n",
        "X_new_poly = poly.transform(X_new)\n",
        "y_new = lr.predict(X_new_poly)"
      ],
      "metadata": {
        "id": "d11_nWOHsuKC"
      },
      "execution_count": 93,
      "outputs": []
    },
    {
      "cell_type": "code",
      "source": [
        "plt.plot(X_new,y_new,\"r-\",linewidth=2,label=\"prediction\")\n",
        "plt.plot(x_train,y_train,\"b.\",label=\"training_points\")\n",
        "plt.plot(x_test,y_test,\"g.\",label=\"testing_points\")\n",
        "plt.xlabel(\"x\")\n",
        "plt.ylabel(\"y\")\n",
        "plt.legend()\n",
        "plt.show()\n"
      ],
      "metadata": {
        "colab": {
          "base_uri": "https://localhost:8080/",
          "height": 449
        },
        "id": "a87-yiSZp_7c",
        "outputId": "2d122582-f2dc-4e93-81ea-d315facd8f09"
      },
      "execution_count": 98,
      "outputs": [
        {
          "output_type": "display_data",
          "data": {
            "text/plain": [
              "<Figure size 640x480 with 1 Axes>"
            ],
            "image/png": "[encoded data removed]"
          },
          "metadata": {}
        }
      ]
    },
    {
      "cell_type": "code",
      "source": [],
      "metadata": {
        "id": "iynj85YUsjgA"
      },
      "execution_count": null,
      "outputs": []
    }
  ]
}